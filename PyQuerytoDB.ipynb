{
 "cells": [
  {
   "cell_type": "code",
   "execution_count": 6,
   "id": "numeric-transfer",
   "metadata": {},
   "outputs": [
    {
     "name": "stdout",
     "output_type": "stream",
     "text": [
      "     actor_id first_name     last_name         last_update\n",
      "0           1   PENELOPE       GUINESS 2006-02-15 04:34:33\n",
      "1           2       NICK      WAHLBERG 2006-02-15 04:34:33\n",
      "2           3         ED         CHASE 2006-02-15 04:34:33\n",
      "3           4   JENNIFER         DAVIS 2006-02-15 04:34:33\n",
      "4           5     JOHNNY  LOLLOBRIGIDA 2006-02-15 04:34:33\n",
      "..        ...        ...           ...                 ...\n",
      "195       196       BELA        WALKEN 2006-02-15 04:34:33\n",
      "196       197      REESE          WEST 2006-02-15 04:34:33\n",
      "197       198       MARY        KEITEL 2006-02-15 04:34:33\n",
      "198       199      JULIA       FAWCETT 2006-02-15 04:34:33\n",
      "199       200      THORA        TEMPLE 2006-02-15 04:34:33\n",
      "\n",
      "[200 rows x 4 columns]\n"
     ]
    }
   ],
   "source": [
    "import pyodbc\n",
    "import pymysql\n",
    "import mysql.connector\n",
    "import pandas as pd\n",
    "\n",
    "cnx = mysql.connector.connect(user='gaurav', password='S@njose1990',\n",
    "                              host='localhost',\n",
    "                              database='sakila')\n",
    "\n",
    "df = pd.read_sql_query(\" select  * from actor \", cnx)\n",
    "print(df)\n",
    "#cnx.close()\n",
    "\n"
   ]
  },
  {
   "cell_type": "code",
   "execution_count": 10,
   "id": "floppy-argument",
   "metadata": {},
   "outputs": [
    {
     "name": "stdout",
     "output_type": "stream",
     "text": [
      "1 record inserted.\n",
      "\n",
      "Iron Man RIP\n",
      "\n",
      "[(203, 'TONY', 'STARK', datetime.datetime(2023, 3, 1, 4, 34, 33))]\n"
     ]
    }
   ],
   "source": [
    "# cursor object \n",
    "mycursor = cnx.cursor()\n",
    "\n",
    "stmt = \"INSERT INTO actor (first_name, last_name, last_update) VALUES (%s, %s,%s)\"\n",
    "\n",
    "val = (\"TONY\", \"STARK\",\"2023-03-01 04:34:33\")\n",
    " \n",
    " \n",
    "# excute command\n",
    "mycursor.execute(stmt, val)\n",
    "\n",
    "cnx.commit()\n",
    " \n",
    " \n",
    "#print row inserted\n",
    "print(mycursor.rowcount, \"record inserted.\\n\")\n",
    " \n",
    "mycursor.execute(\"SELECT * FROM actor  order by actor_id desc limit 1\")\n",
    "\n",
    "result = mycursor.fetchall()\n",
    " \n",
    "print(\"Iron Man RIP\\n\")\n",
    "\n",
    "print(result)"
   ]
  },
  {
   "cell_type": "markdown",
   "id": "understanding-niagara",
   "metadata": {},
   "source": []
  },
  {
   "cell_type": "code",
   "execution_count": 9,
   "id": "typical-reminder",
   "metadata": {},
   "outputs": [],
   "source": []
  }
 ],
 "metadata": {
  "kernelspec": {
   "display_name": "Python 3",
   "language": "python",
   "name": "python3"
  },
  "language_info": {
   "codemirror_mode": {
    "name": "ipython",
    "version": 3
   },
   "file_extension": ".py",
   "mimetype": "text/x-python",
   "name": "python",
   "nbconvert_exporter": "python",
   "pygments_lexer": "ipython3",
   "version": "3.8.5"
  }
 },
 "nbformat": 4,
 "nbformat_minor": 5
}
