{
 "cells": [
  {
   "cell_type": "markdown",
   "id": "early-livestock",
   "metadata": {},
   "source": [
    "***ANLY535 Lab 1: Team 2\n",
    "Group members: \n",
    "Gaurav Gade\n",
    "Nihar Garlapati\n",
    "Divyani Kanawat\n",
    "Aditya Sameer Malik\n"
   ]
  },
  {
   "cell_type": "code",
   "execution_count": null,
   "id": "second-trial",
   "metadata": {},
   "outputs": [],
   "source": [
    "import tensorflow as tf\n",
    "from tensorflow.keras.datasets import mnist\n",
    "import matplotlib.pyplot as plt\n",
    "\n",
    "hello =tf.constant('Hello, TensorFlow!')\n",
    "print(hello)"
   ]
  },
  {
   "cell_type": "code",
   "execution_count": 2,
   "id": "anonymous-boutique",
   "metadata": {},
   "outputs": [],
   "source": [
    "(X_train, y_train), (X_test, y_test) = mnist.load_data()\n"
   ]
  },
  {
   "cell_type": "markdown",
   "id": "hundred-familiar",
   "metadata": {},
   "source": [
    "Q1: Use same method that explain in lecture to show first 6 elements of the dataset.You should see:\n",
    "\n",
    "tf.constant creates a constant tensor from a tensor-like object. The resulting tensor is populated with values of type dtype, as specified by arguments value and optionally shape. It comes from the value being embedded in a Const node in the tf.Graph and is useful for asserting that the value can be embedded that way. If the argument dtype is not specified, then the type is inferred from the type of value."
   ]
  },
  {
   "cell_type": "code",
   "execution_count": 3,
   "id": "congressional-taiwan",
   "metadata": {},
   "outputs": [
    {
     "data": {
      "image/png": "[encoded data removed]",
      "text/plain": [
       "<Figure size 432x288 with 6 Axes>"
      ]
     },
     "metadata": {
      "needs_background": "light"
     },
     "output_type": "display_data"
    }
   ],
   "source": [
    "for i in range(6):\n",
    "    # define subplot\n",
    "    plt.subplot(2, 3, 1 + i)\n",
    "    \n",
    "    # plot raw pixel data\n",
    "    plt.imshow(X_train[i], cmap=plt.get_cmap('gray'))\n",
    "    # show the figure\n",
    "plt.show()"
   ]
  },
  {
   "cell_type": "markdown",
   "id": "leading-growing",
   "metadata": {},
   "source": [
    "Q2-Normalize the data by dividing the values by 255."
   ]
  },
  {
   "cell_type": "code",
   "execution_count": 4,
   "id": "rubber-springfield",
   "metadata": {},
   "outputs": [],
   "source": [
    "X_train = X_train / 255\n",
    "X_test = X_test / 255"
   ]
  },
  {
   "cell_type": "code",
   "execution_count": 5,
   "id": "southeast-helping",
   "metadata": {},
   "outputs": [],
   "source": [
    "model = tf.keras.models.Sequential([\n",
    " tf.keras.layers.Flatten(input_shape=(28, 28)),\n",
    " tf.keras.layers.Dense(128, activation='sigmoid'),\n",
    " tf.keras.layers.Dense(10)\n",
    "])\n"
   ]
  },
  {
   "cell_type": "code",
   "execution_count": 6,
   "id": "heated-scanner",
   "metadata": {},
   "outputs": [
    {
     "data": {
      "text/plain": [
       "array([[ 1.3804646 ,  1.1691273 , -0.08099814,  0.86440015,  0.28989252,\n",
       "        -0.15075576,  0.19102615, -0.5802469 , -0.45664245, -1.2018092 ]],\n",
       "      dtype=float32)"
      ]
     },
     "execution_count": 6,
     "metadata": {},
     "output_type": "execute_result"
    }
   ],
   "source": [
    "predictions= model(X_train[:1]).numpy()\n",
    "predictions"
   ]
  },
  {
   "cell_type": "code",
   "execution_count": 7,
   "id": "incomplete-treasurer",
   "metadata": {},
   "outputs": [
    {
     "data": {
      "text/plain": [
       "array([[0.7990656 , 0.76298726, 0.47976154, 0.7035791 , 0.5719698 ,\n",
       "        0.4623823 , 0.54761183, 0.3588758 , 0.38778263, 0.23115352]],\n",
       "      dtype=float32)"
      ]
     },
     "execution_count": 7,
     "metadata": {},
     "output_type": "execute_result"
    }
   ],
   "source": [
    "#Sigmoid result\n",
    "\n",
    "tf.nn.sigmoid(predictions).numpy()\n"
   ]
  },
  {
   "cell_type": "code",
   "execution_count": 8,
   "id": "looking-flesh",
   "metadata": {},
   "outputs": [
    {
     "data": {
      "text/plain": [
       "array([5], dtype=uint8)"
      ]
     },
     "execution_count": 8,
     "metadata": {},
     "output_type": "execute_result"
    }
   ],
   "source": [
    "loss_fn = tf.keras.losses.SparseCategoricalCrossentropy(from_logits=True)\n",
    "\n",
    "y_train[:1]"
   ]
  },
  {
   "cell_type": "code",
   "execution_count": 9,
   "id": "responsible-manor",
   "metadata": {},
   "outputs": [
    {
     "data": {
      "text/plain": [
       "array([[ 1.3804646 ,  1.1691273 , -0.08099814,  0.86440015,  0.28989252,\n",
       "        -0.15075576,  0.19102615, -0.5802469 , -0.45664245, -1.2018092 ]],\n",
       "      dtype=float32)"
      ]
     },
     "execution_count": 9,
     "metadata": {},
     "output_type": "execute_result"
    }
   ],
   "source": [
    "loss_fn(y_train[:1], predictions).numpy()\n",
    "\n",
    "predictions"
   ]
  },
  {
   "cell_type": "code",
   "execution_count": 10,
   "id": "cleared-verification",
   "metadata": {},
   "outputs": [
    {
     "name": "stdout",
     "output_type": "stream",
     "text": [
      "Epoch 1/5\n",
      "1875/1875 [==============================] - 3s 1ms/step - loss: 1.4204 - accuracy: 0.7066\n",
      "Epoch 2/5\n",
      "1875/1875 [==============================] - 3s 2ms/step - loss: 0.6912 - accuracy: 0.8486\n",
      "Epoch 3/5\n",
      "1875/1875 [==============================] - 4s 2ms/step - loss: 0.5182 - accuracy: 0.8731\n",
      "Epoch 4/5\n",
      "1875/1875 [==============================] - 2s 1ms/step - loss: 0.4453 - accuracy: 0.8853\n",
      "Epoch 5/5\n",
      "1875/1875 [==============================] - 3s 1ms/step - loss: 0.4049 - accuracy: 0.8921\n",
      "313/313 - 0s - loss: 0.3734 - accuracy: 0.8984\n",
      "Baseline Error: 10.16%\n",
      "Accuracy: 89.84%\n"
     ]
    }
   ],
   "source": [
    "model.compile(optimizer='SGD',\n",
    " loss=loss_fn,\n",
    " metrics=['accuracy'])\n",
    "model.fit(X_train, y_train, epochs=5)\n",
    "\n",
    "scores = model.evaluate(X_test, y_test, verbose=2)\n",
    "print(\"Baseline Error: %.2f%%\" % (100-scores[1]*100))\n",
    "print(\"Accuracy: %.2f%%\" % (scores[1]*100))\n"
   ]
  },
  {
   "cell_type": "markdown",
   "id": "agreed-renewal",
   "metadata": {},
   "source": [
    "Q3-Add another layer with 128 nodes, increase the epochs to 10 and report the result. How much is the accuracy? (model.evaluatecan tell you the accuracy). \n",
    "\n",
    "The accuracy improved from 90% to 91.64% due to the addition of another hidden layer with 128 nodes and epochs increased to 10.   "
   ]
  },
  {
   "cell_type": "code",
   "execution_count": 11,
   "id": "sealed-state",
   "metadata": {},
   "outputs": [
    {
     "name": "stdout",
     "output_type": "stream",
     "text": [
      "Epoch 1/10\n",
      "1875/1875 [==============================] - 2s 1ms/step - loss: 2.2012 - accuracy: 0.3216 - E\n",
      "Epoch 2/10\n",
      "1875/1875 [==============================] - 2s 1ms/step - loss: 1.6849 - accuracy: 0.6105: 0s - loss: 1.7111 - accuracy: \n",
      "Epoch 3/10\n",
      "1875/1875 [==============================] - 2s 1ms/step - loss: 1.0725 - accuracy: 0.7382\n",
      "Epoch 4/10\n",
      "1875/1875 [==============================] - 2s 1ms/step - loss: 0.7778 - accuracy: 0.8064\n",
      "Epoch 5/10\n",
      "1875/1875 [==============================] - 4s 2ms/step - loss: 0.6186 - accuracy: 0.8426\n",
      "Epoch 6/10\n",
      "1875/1875 [==============================] - 3s 2ms/step - loss: 0.5241 - accuracy: 0.8629\n",
      "Epoch 7/10\n",
      "1875/1875 [==============================] - 4s 2ms/step - loss: 0.4650 - accuracy: 0.8762\n",
      "Epoch 8/10\n",
      "1875/1875 [==============================] - 5s 2ms/step - loss: 0.4255 - accuracy: 0.8849\n",
      "Epoch 9/10\n",
      "1875/1875 [==============================] - 6s 3ms/step - loss: 0.3974 - accuracy: 0.8913\n",
      "Epoch 10/10\n",
      "1875/1875 [==============================] - 6s 3ms/step - loss: 0.3767 - accuracy: 0.8954: 0s - l\n",
      "313/313 - 0s - loss: 0.3563 - accuracy: 0.8998\n",
      "Baseline Error: 10.02%\n",
      "Accuracy: 89.98%\n"
     ]
    }
   ],
   "source": [
    "model2 = tf.keras.models.Sequential([\n",
    " tf.keras.layers.Flatten(input_shape=(28, 28)),\n",
    " tf.keras.layers.Dense(128, activation='sigmoid'),\n",
    " tf.keras.layers.Dense(128, activation='sigmoid'),\n",
    " tf.keras.layers.Dense(10)\n",
    "])\n",
    "\n",
    "model2.compile(optimizer='SGD',\n",
    " loss=loss_fn,\n",
    " metrics=['accuracy'])\n",
    "model2.fit(X_train, y_train, epochs=10)\n",
    "\n",
    "scores2 = model2.evaluate(X_test, y_test, verbose=2)\n",
    "print(\"Baseline Error: %.2f%%\" % (100-scores2[1]*100))\n",
    "print(\"Accuracy: %.2f%%\" % (scores2[1]*100))"
   ]
  },
  {
   "cell_type": "code",
   "execution_count": 12,
   "id": "liquid-brooklyn",
   "metadata": {},
   "outputs": [
    {
     "name": "stdout",
     "output_type": "stream",
     "text": [
      "Epoch 1/10\n",
      "1500/1500 [==============================] - 5s 3ms/step - loss: 0.3667 - accuracy: 0.8973 - val_loss: 0.3354 - val_accuracy: 0.9063\n",
      "Epoch 2/10\n",
      "1500/1500 [==============================] - 5s 3ms/step - loss: 0.3556 - accuracy: 0.9000 - val_loss: 0.3268 - val_accuracy: 0.9072\n",
      "Epoch 3/10\n",
      "1500/1500 [==============================] - 4s 3ms/step - loss: 0.3458 - accuracy: 0.9022 - val_loss: 0.3188 - val_accuracy: 0.9099\n",
      "Epoch 4/10\n",
      "1500/1500 [==============================] - 5s 3ms/step - loss: 0.3375 - accuracy: 0.9041 - val_loss: 0.3121 - val_accuracy: 0.9113\n",
      "Epoch 5/10\n",
      "1500/1500 [==============================] - 4s 3ms/step - loss: 0.3299 - accuracy: 0.9064 - val_loss: 0.3064 - val_accuracy: 0.9122\n",
      "Epoch 6/10\n",
      "1500/1500 [==============================] - 3s 2ms/step - loss: 0.3232 - accuracy: 0.9073 - val_loss: 0.2999 - val_accuracy: 0.9150\n",
      "Epoch 7/10\n",
      "1500/1500 [==============================] - 6s 4ms/step - loss: 0.3171 - accuracy: 0.9091 - val_loss: 0.2954 - val_accuracy: 0.9168\n",
      "Epoch 8/10\n",
      "1500/1500 [==============================] - 5s 3ms/step - loss: 0.3115 - accuracy: 0.9111 - val_loss: 0.2913 - val_accuracy: 0.9183\n",
      "Epoch 9/10\n",
      "1500/1500 [==============================] - 5s 3ms/step - loss: 0.3058 - accuracy: 0.9126 - val_loss: 0.2869 - val_accuracy: 0.9197\n",
      "Epoch 10/10\n",
      "1500/1500 [==============================] - 3s 2ms/step - loss: 0.3009 - accuracy: 0.9137 - val_loss: 0.2816 - val_accuracy: 0.9207\n",
      "313/313 - 0s - loss: 0.2876 - accuracy: 0.9164\n",
      "Baseline Error: 8.36%\n",
      "Accuracy: 91.64%\n"
     ]
    }
   ],
   "source": [
    "model2.compile(optimizer='SGD',\n",
    " loss=loss_fn,\n",
    " metrics=['accuracy'])\n",
    "model2.fit(X_train, y_train, validation_split=0.2,  epochs=10)\n",
    "\n",
    "scores3 = model2.evaluate(X_test, y_test, verbose=2)\n",
    "print(\"Baseline Error: %.2f%%\" % (100-scores3[1]*100))\n",
    "print(\"Accuracy: %.2f%%\" % (scores3[1]*100))"
   ]
  },
  {
   "cell_type": "code",
   "execution_count": 13,
   "id": "painted-rochester",
   "metadata": {},
   "outputs": [
    {
     "name": "stdout",
     "output_type": "stream",
     "text": [
      "Epoch 1/10\n",
      "1500/1500 [==============================] - 6s 4ms/step - loss: 0.2962 - accuracy: 0.9145 - val_loss: 0.2781 - val_accuracy: 0.9218\n",
      "Epoch 2/10\n",
      "1500/1500 [==============================] - 4s 3ms/step - loss: 0.2917 - accuracy: 0.9158 - val_loss: 0.2744 - val_accuracy: 0.9224\n",
      "Epoch 3/10\n",
      "1500/1500 [==============================] - 4s 3ms/step - loss: 0.2873 - accuracy: 0.9170 - val_loss: 0.2706 - val_accuracy: 0.9235\n",
      "Epoch 4/10\n",
      "1500/1500 [==============================] - 4s 3ms/step - loss: 0.2833 - accuracy: 0.9181 - val_loss: 0.2680 - val_accuracy: 0.9236\n",
      "Epoch 5/10\n",
      "1500/1500 [==============================] - 4s 3ms/step - loss: 0.2793 - accuracy: 0.9185 - val_loss: 0.2639 - val_accuracy: 0.9252\n",
      "Epoch 6/10\n",
      "1500/1500 [==============================] - 4s 3ms/step - loss: 0.2752 - accuracy: 0.9194 - val_loss: 0.2606 - val_accuracy: 0.9248\n",
      "Epoch 7/10\n",
      "1500/1500 [==============================] - 4s 3ms/step - loss: 0.2717 - accuracy: 0.9205 - val_loss: 0.2580 - val_accuracy: 0.9265\n",
      "Epoch 8/10\n",
      "1500/1500 [==============================] - 4s 3ms/step - loss: 0.2681 - accuracy: 0.9221 - val_loss: 0.2541 - val_accuracy: 0.9268\n",
      "Epoch 9/10\n",
      "1500/1500 [==============================] - 4s 3ms/step - loss: 0.2643 - accuracy: 0.9227 - val_loss: 0.2511 - val_accuracy: 0.9277\n",
      "Epoch 10/10\n",
      "1500/1500 [==============================] - 4s 3ms/step - loss: 0.2610 - accuracy: 0.9235 - val_loss: 0.2486 - val_accuracy: 0.9283\n"
     ]
    },
    {
     "data": {
      "image/png": "[encoded data removed]",
      "text/plain": [
       "<Figure size 432x288 with 2 Axes>"
      ]
     },
     "metadata": {
      "needs_background": "light"
     },
     "output_type": "display_data"
    }
   ],
   "source": [
    "\n",
    "hist = model2.fit(X_train, y_train, validation_split=0.2, epochs=10)\n",
    "\n",
    "\n",
    "plt.subplot(2,1,1)\n",
    "plt.plot(hist.history['accuracy'])\n",
    "plt.plot(hist.history['val_accuracy'])\n",
    "plt.title('model accuracy')\n",
    "plt.ylabel('accuracy')\n",
    "plt.xlabel('epoch')\n",
    "plt.legend(['train', 'test'], loc='lower right')\n",
    "plt.subplot(2,1,2)\n",
    "plt.plot(hist.history['loss'])\n",
    "plt.plot(hist.history['val_loss'])\n",
    "plt.title('model loss')\n",
    "plt.ylabel('loss')\n",
    "plt.xlabel('epoch')\n",
    "plt.legend(['train', 'test'], loc='upper right')\n",
    "plt.show()"
   ]
  },
  {
   "cell_type": "code",
   "execution_count": 14,
   "id": "guided-airplane",
   "metadata": {},
   "outputs": [
    {
     "name": "stdout",
     "output_type": "stream",
     "text": [
      "Epoch 1/10\n",
      "1500/1500 [==============================] - 5s 3ms/step - loss: 2.2839 - accuracy: 0.1527 - val_loss: 2.1431 - val_accuracy: 0.4978\n",
      "Epoch 2/10\n",
      "1500/1500 [==============================] - 5s 3ms/step - loss: 2.0080 - accuracy: 0.3484 - val_loss: 1.7088 - val_accuracy: 0.6737\n",
      "Epoch 3/10\n",
      "1500/1500 [==============================] - 5s 3ms/step - loss: 1.4953 - accuracy: 0.5565 - val_loss: 1.1648 - val_accuracy: 0.7388\n",
      "Epoch 4/10\n",
      "1500/1500 [==============================] - 4s 3ms/step - loss: 1.0943 - accuracy: 0.6728 - val_loss: 0.8610 - val_accuracy: 0.7940\n",
      "Epoch 5/10\n",
      "1500/1500 [==============================] - 4s 3ms/step - loss: 0.8746 - accuracy: 0.7355 - val_loss: 0.7006 - val_accuracy: 0.8230\n",
      "Epoch 6/10\n",
      "1500/1500 [==============================] - 4s 3ms/step - loss: 0.7412 - accuracy: 0.7769 - val_loss: 0.6025 - val_accuracy: 0.8436\n",
      "Epoch 7/10\n",
      "1500/1500 [==============================] - 5s 3ms/step - loss: 0.6610 - accuracy: 0.7998 - val_loss: 0.5386 - val_accuracy: 0.8570\n",
      "Epoch 8/10\n",
      "1500/1500 [==============================] - 4s 3ms/step - loss: 0.6015 - accuracy: 0.8193 - val_loss: 0.4936 - val_accuracy: 0.8673\n",
      "Epoch 9/10\n",
      "1500/1500 [==============================] - 4s 3ms/step - loss: 0.5584 - accuracy: 0.8339 - val_loss: 0.4592 - val_accuracy: 0.8763\n",
      "Epoch 10/10\n",
      "1500/1500 [==============================] - 4s 3ms/step - loss: 0.5229 - accuracy: 0.8465 - val_loss: 0.4324 - val_accuracy: 0.8832\n",
      "313/313 - 0s - loss: 0.4365 - accuracy: 0.8782\n",
      "Baseline Error: 12.18%\n",
      "Accuracy: 87.82%\n"
     ]
    }
   ],
   "source": [
    "model3 = tf.keras.models.Sequential([\n",
    " tf.keras.layers.Flatten(input_shape=(28, 28)),\n",
    " tf.keras.layers.Dense(128, activation='sigmoid'),\n",
    " tf.keras.layers.Dense(128, activation='sigmoid'),\n",
    " tf.keras.layers.Dropout(0.2),\n",
    " tf.keras.layers.Dense(10)])\n",
    "\n",
    "model3.compile(optimizer='SGD',\n",
    " loss=loss_fn,\n",
    " metrics=['accuracy'])\n",
    "model3.fit(X_train, y_train, validation_split=0.2,  epochs=10)\n",
    "\n",
    "\n",
    "scores4 = model3.evaluate(X_test, y_test, verbose=2)\n",
    "print(\"Baseline Error: %.2f%%\" % (100-scores4[1]*100))\n",
    "print(\"Accuracy: %.2f%%\" % (scores4[1]*100))"
   ]
  },
  {
   "cell_type": "markdown",
   "id": "indirect-stockholm",
   "metadata": {},
   "source": [
    "Q4-Now train the model again with adding stochastic gradient descent with batch size of 200. What do you expect to be changed? Speed or accuracy?\n",
    "\n",
    "Reducing the batch size to 200 will decrease processing speed but increases model accuracy."
   ]
  },
  {
   "cell_type": "code",
   "execution_count": 15,
   "id": "lyric-announcement",
   "metadata": {},
   "outputs": [
    {
     "name": "stdout",
     "output_type": "stream",
     "text": [
      "Epoch 1/10\n",
      "240/240 [==============================] - 1s 5ms/step - loss: 0.5037 - accuracy: 0.8519 - val_loss: 0.4281 - val_accuracy: 0.8834\n",
      "Epoch 2/10\n",
      "240/240 [==============================] - 1s 5ms/step - loss: 0.5011 - accuracy: 0.8521 - val_loss: 0.4243 - val_accuracy: 0.8833\n",
      "Epoch 3/10\n",
      "240/240 [==============================] - 1s 5ms/step - loss: 0.4968 - accuracy: 0.8546 - val_loss: 0.4209 - val_accuracy: 0.8848\n",
      "Epoch 4/10\n",
      "240/240 [==============================] - 1s 6ms/step - loss: 0.4932 - accuracy: 0.8550 - val_loss: 0.4175 - val_accuracy: 0.8856\n",
      "Epoch 5/10\n",
      "240/240 [==============================] - 1s 6ms/step - loss: 0.4905 - accuracy: 0.8570 - val_loss: 0.4142 - val_accuracy: 0.8867\n",
      "Epoch 6/10\n",
      "240/240 [==============================] - 2s 6ms/step - loss: 0.4852 - accuracy: 0.8590 - val_loss: 0.4111 - val_accuracy: 0.8870\n",
      "Epoch 7/10\n",
      "240/240 [==============================] - 1s 5ms/step - loss: 0.4817 - accuracy: 0.8575 - val_loss: 0.4079 - val_accuracy: 0.8876\n",
      "Epoch 8/10\n",
      "240/240 [==============================] - 1s 5ms/step - loss: 0.4796 - accuracy: 0.8594 - val_loss: 0.4050 - val_accuracy: 0.8877\n",
      "Epoch 9/10\n",
      "240/240 [==============================] - 2s 6ms/step - loss: 0.4747 - accuracy: 0.8606 - val_loss: 0.4020 - val_accuracy: 0.8882\n",
      "Epoch 10/10\n",
      "240/240 [==============================] - 2s 9ms/step - loss: 0.4715 - accuracy: 0.8627 - val_loss: 0.3992 - val_accuracy: 0.8894\n",
      "313/313 - 0s - loss: 0.4017 - accuracy: 0.8852\n",
      "Baseline Error: 11.48%\n",
      "Accuracy: 88.52%\n"
     ]
    }
   ],
   "source": [
    "model3.compile(optimizer='SGD',\n",
    " loss=loss_fn,\n",
    " metrics=['accuracy'])\n",
    "model3.fit(X_train, y_train, validation_split=0.2,  epochs=10, batch_size=200)\n",
    "\n",
    "scores5 = model3.evaluate(X_test, y_test, verbose=2)\n",
    "print(\"Baseline Error: %.2f%%\" % (100-scores5[1]*100))\n",
    "print(\"Accuracy: %.2f%%\" % (scores5[1]*100))"
   ]
  },
  {
   "cell_type": "markdown",
   "id": "sacred-radio",
   "metadata": {},
   "source": [
    "Q5-Design a neural network with 2 hidden layers (hidden layer 1 with 12 nodes and hidden layer 2 with 8 nodes), report the accuracy and draw the learning curves. Apply a dropout to see if you could get any better result.Use ‘adam’as optimizer. \n",
    "\n",
    "Adding a dropout for the above final increases the accuracy from 60% to 63%."
   ]
  },
  {
   "cell_type": "code",
   "execution_count": 19,
   "id": "raised-gospel",
   "metadata": {},
   "outputs": [
    {
     "name": "stdout",
     "output_type": "stream",
     "text": [
      "5/5 - 0s - loss: 1.4186 - accuracy: 0.6039\n",
      "Baseline Error: 39.61%\n",
      "Accuracy: 60.39%\n",
      "Epoch 1/10\n",
      "20/20 [==============================] - 0s 746us/step - loss: 1.3114 - accuracy: 0.6498\n",
      "Epoch 2/10\n",
      "20/20 [==============================] - 0s 2ms/step - loss: 1.1199 - accuracy: 0.6531\n",
      "Epoch 3/10\n",
      "20/20 [==============================] - 0s 4ms/step - loss: 0.9740 - accuracy: 0.6531\n",
      "Epoch 4/10\n",
      "20/20 [==============================] - 0s 4ms/step - loss: 0.8808 - accuracy: 0.6531\n",
      "Epoch 5/10\n",
      "20/20 [==============================] - 0s 5ms/step - loss: 0.8242 - accuracy: 0.6531\n",
      "Epoch 6/10\n",
      "20/20 [==============================] - 0s 5ms/step - loss: 0.7866 - accuracy: 0.6531\n",
      "Epoch 7/10\n",
      "20/20 [==============================] - 0s 4ms/step - loss: 0.7603 - accuracy: 0.6531\n",
      "Epoch 8/10\n",
      "20/20 [==============================] - 0s 4ms/step - loss: 0.7391 - accuracy: 0.6531\n",
      "Epoch 9/10\n",
      "20/20 [==============================] - 0s 3ms/step - loss: 0.7227 - accuracy: 0.6531\n",
      "Epoch 10/10\n",
      "20/20 [==============================] - 0s 3ms/step - loss: 0.7115 - accuracy: 0.6531\n"
     ]
    }
   ],
   "source": [
    "import pandas as pd\n",
    "\n",
    "file = 'C:/Users/nagar/Documents/ANLY 535 Machine Learning/pima-indians-diabetes.csv' \n",
    "\n",
    "dataframe = pd.read_csv(file) \n",
    "\n",
    "y = dataframe['diabete'] \n",
    "X = dataframe.drop(['ID','diabete'], axis=1)\n",
    "\n",
    "from sklearn.model_selection import train_test_split \n",
    "X_train, X_test, y_train, y_test = train_test_split(X, y, test_size=0.20, random_state=1234)\n",
    "\n",
    "import tensorflow as tf \n",
    "\n",
    "model_str1 = tf.keras.models.Sequential([   \n",
    "tf.keras.layers.Flatten(input_shape=(8, )),   \n",
    "tf.keras.layers.Dense(12, activation='sigmoid'),   \n",
    "tf.keras.layers.Dense(8) \n",
    "])\n",
    "\n",
    "loss_fn = tf.keras.losses.SparseCategoricalCrossentropy(from_logits=True) \n",
    "\n",
    "model_str1.compile(optimizer='adam',\n",
    "loss=loss_fn,\n",
    "metrics=['accuracy']) \n",
    "\n",
    "#Checking accuracy and error rate\n",
    "\n",
    "scores6 = model_str1.evaluate(X_test, y_test, verbose=2)\n",
    "print(\"Baseline Error: %.2f%%\" % (100-scores6[1]*100))\n",
    "print(\"Accuracy: %.2f%%\" % (scores6[1]*100))\n",
    "\n",
    "hist2 = model_str1.fit(X_train, y_train, epochs=10) "
   ]
  },
  {
   "cell_type": "code",
   "execution_count": 17,
   "id": "floppy-layout",
   "metadata": {},
   "outputs": [
    {
     "name": "stdout",
     "output_type": "stream",
     "text": [
      "Epoch 1/10\n",
      "20/20 [==============================] - 0s 740us/step - loss: 1.9040 - accuracy: 0.3811\n",
      "Epoch 2/10\n",
      "20/20 [==============================] - 0s 2ms/step - loss: 1.7199 - accuracy: 0.5326\n",
      "Epoch 3/10\n",
      "20/20 [==============================] - 0s 2ms/step - loss: 1.5780 - accuracy: 0.5765\n",
      "Epoch 4/10\n",
      "20/20 [==============================] - 0s 3ms/step - loss: 1.4680 - accuracy: 0.6042\n",
      "Epoch 5/10\n",
      "20/20 [==============================] - 0s 3ms/step - loss: 1.4041 - accuracy: 0.6075\n",
      "Epoch 6/10\n",
      "20/20 [==============================] - 0s 3ms/step - loss: 1.3154 - accuracy: 0.6336\n",
      "Epoch 7/10\n",
      "20/20 [==============================] - 0s 3ms/step - loss: 1.1659 - accuracy: 0.6417\n",
      "Epoch 8/10\n",
      "20/20 [==============================] - 0s 4ms/step - loss: 1.0624 - accuracy: 0.6417\n",
      "Epoch 9/10\n",
      "20/20 [==============================] - 0s 4ms/step - loss: 1.0344 - accuracy: 0.6287\n",
      "Epoch 10/10\n",
      "20/20 [==============================] - 0s 4ms/step - loss: 0.9952 - accuracy: 0.6352\n",
      "5/5 - 0s - loss: 0.9348 - accuracy: 0.6299\n",
      "Baseline Error: 37.01%\n",
      "Accuracy: 62.99%\n"
     ]
    }
   ],
   "source": [
    "model_str2 = tf.keras.models.Sequential([   \n",
    "tf.keras.layers.Flatten(input_shape=(8, )),   \n",
    "tf.keras.layers.Dense(12, activation='sigmoid'),   \n",
    "tf.keras.layers.Dropout(0.2),     \n",
    "tf.keras.layers.Dense(8) \n",
    "])\n",
    "\n",
    "model_str2.compile(optimizer='adam',\n",
    "loss=loss_fn,\n",
    "metrics=['accuracy']) \n",
    "hist3 =model_str2.fit(X_train, y_train, epochs=10) \n",
    "\n",
    "#Checking accuracy and error rate\n",
    "scores7 = model_str2.evaluate(X_test, y_test, verbose=2)\n",
    "print(\"Baseline Error: %.2f%%\" % (100-scores7[1]*100))\n",
    "print(\"Accuracy: %.2f%%\" % (scores7[1]*100))"
   ]
  },
  {
   "cell_type": "code",
   "execution_count": 18,
   "id": "veterinary-complexity",
   "metadata": {},
   "outputs": [
    {
     "data": {
      "text/plain": [
       "Text(0.5, 1.0, 'model accuracy with dropout')"
      ]
     },
     "execution_count": 18,
     "metadata": {},
     "output_type": "execute_result"
    },
    {
     "data": {
      "image/png": "[encoded data removed]",
      "text/plain": [
       "<Figure size 432x288 with 2 Axes>"
      ]
     },
     "metadata": {
      "needs_background": "light"
     },
     "output_type": "display_data"
    }
   ],
   "source": [
    "import matplotlib.pyplot as plt\n",
    "\n",
    "#Plotting without dropout\n",
    "plt.subplot(2,1,1) \n",
    "plt.plot(hist2.history['accuracy']) \n",
    "plt.plot(hist2.history['loss']) \n",
    "plt.title('model accuracy no dropout') \n",
    "\n",
    "#Now plotting this with dropout\n",
    "plt.subplot(2,1,2) \n",
    "plt.plot(hist3.history['accuracy']) \n",
    "plt.plot(hist3.history['loss']) \n",
    "plt.title('model accuracy with dropout')"
   ]
  }
 ],
 "metadata": {
  "kernelspec": {
   "display_name": "Python 3",
   "language": "python",
   "name": "python3"
  },
  "language_info": {
   "codemirror_mode": {
    "name": "ipython",
    "version": 3
   },
   "file_extension": ".py",
   "mimetype": "text/x-python",
   "name": "python",
   "nbconvert_exporter": "python",
   "pygments_lexer": "ipython3",
   "version": "3.8.5"
  }
 },
 "nbformat": 4,
 "nbformat_minor": 5
}
